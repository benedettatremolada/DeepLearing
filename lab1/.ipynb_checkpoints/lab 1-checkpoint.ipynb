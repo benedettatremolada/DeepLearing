{
 "cells": [
  {
   "cell_type": "markdown",
   "id": "0556d535-0e89-465f-952a-26bd875bb8ab",
   "metadata": {},
   "source": [
    "Exercise 2 - Hello World! \n",
    "- Write a python script which outputs the string \"Hello World!\" using the built-in python function print.\n",
    "- Python is a dynamic typing language, allocate the following three variables 5, 6.5 and \"hello\" using the function input and print to terminal using f-strings.\n"
   ]
  },
  {
   "cell_type": "code",
   "execution_count": 35,
   "id": "c06fb7c9-148e-4327-baaa-69984074fc94",
   "metadata": {},
   "outputs": [
    {
     "name": "stdout",
     "output_type": "stream",
     "text": [
      "Hello world\n"
     ]
    }
   ],
   "source": [
    "#Point 1\n",
    "import numpy as np\n",
    "\n",
    "print('Hello world')"
   ]
  },
  {
   "cell_type": "code",
   "execution_count": 3,
   "id": "e7e5a4d0-6376-4bdc-b0c6-0854942f0a99",
   "metadata": {},
   "outputs": [
    {
     "name": "stdin",
     "output_type": "stream",
     "text": [
      "type an integer:  4\n",
      "type a float:  5.6\n",
      "type a char: c\n"
     ]
    },
    {
     "name": "stdout",
     "output_type": "stream",
     "text": [
      "4 5.6 c\n"
     ]
    }
   ],
   "source": [
    "#Point 2\n",
    "a = input(\"type an integer: \")\n",
    "b = input(\"type a float: \")\n",
    "c = input(\"type a char:\" )\n",
    "\n",
    "print(f\"{a} {b} {c}\")"
   ]
  },
  {
   "cell_type": "markdown",
   "id": "fdcd4bd7-a07f-4e07-b47a-76b23600bcf8",
   "metadata": {},
   "source": [
    "Exercise 3 \n",
    "- Translating from C++ Translate the following C++ code in a python script:\n",
    "int main() { int a = 1, b = 1; int target = 48; for(int n = 3; n <= target; ++n) { int fib = a + b; std::cout << \"F(\"<< n << \") = \" << fib << std::endl; a = b; b = fib; }\n",
    "return 0;\n",
    "}\n",
    "\n",
    "- Compare the output of the C++ code with the python code\n"
   ]
  },
  {
   "cell_type": "code",
   "execution_count": 6,
   "id": "46549b6b-32fd-4c91-8362-a8b01a94157d",
   "metadata": {
    "scrolled": true
   },
   "outputs": [
    {
     "name": "stdout",
     "output_type": "stream",
     "text": [
      "f(n) = 2\n",
      "f(n) = 3\n",
      "f(n) = 5\n",
      "f(n) = 8\n",
      "f(n) = 13\n",
      "f(n) = 21\n",
      "f(n) = 34\n",
      "f(n) = 55\n",
      "f(n) = 89\n",
      "f(n) = 144\n",
      "f(n) = 233\n",
      "f(n) = 377\n",
      "f(n) = 610\n",
      "f(n) = 987\n",
      "f(n) = 1597\n",
      "f(n) = 2584\n",
      "f(n) = 4181\n",
      "f(n) = 6765\n",
      "f(n) = 10946\n",
      "f(n) = 17711\n",
      "f(n) = 28657\n",
      "f(n) = 46368\n",
      "f(n) = 75025\n",
      "f(n) = 121393\n",
      "f(n) = 196418\n",
      "f(n) = 317811\n",
      "f(n) = 514229\n",
      "f(n) = 832040\n",
      "f(n) = 1346269\n",
      "f(n) = 2178309\n",
      "f(n) = 3524578\n",
      "f(n) = 5702887\n",
      "f(n) = 9227465\n",
      "f(n) = 14930352\n",
      "f(n) = 24157817\n",
      "f(n) = 39088169\n",
      "f(n) = 63245986\n",
      "f(n) = 102334155\n",
      "f(n) = 165580141\n",
      "f(n) = 267914296\n",
      "f(n) = 433494437\n",
      "f(n) = 701408733\n",
      "f(n) = 1134903170\n",
      "f(n) = 1836311903\n",
      "f(n) = 2971215073\n",
      "f(n) = 4807526976\n"
     ]
    }
   ],
   "source": [
    "#Point 3\n",
    "def main():\n",
    "    a, b = 1, 1\n",
    "    target = 48\n",
    "    for n in range(3, 49):\n",
    "        fib = a + b\n",
    "        print(f\"f(n) = {fib}\")\n",
    "        a = b\n",
    "        b = fib\n",
    "\n",
    "if __name__==\"__main__\":\n",
    "    main()"
   ]
  },
  {
   "cell_type": "markdown",
   "id": "d78b60bb-222f-400c-8834-2c8e958c9ae0",
   "metadata": {},
   "source": [
    "Exercise 4 - Python basics\n",
    "- Create an empty list v and append integers from [0,15] using a for loop.\n",
    "- Append 3 floats to an empty list.\n",
    "- Create a dictionary with the following keys ('name', 'loss', 'weights'). Initialize the dictionary with the following default values ('neuralnet', 0.12, [10,25,5]). Print to screen the value of weights. Assign to loss the value 10.\n",
    "- Given the list [2,6,3,8,9,11,-5] compute the mean value using a for loop.\n",
    "- Define a list using the expression 2 ** n with n = 10."
   ]
  },
  {
   "cell_type": "code",
   "execution_count": 20,
   "id": "faa0fd0b-4781-4389-9259-637a7b6fd01f",
   "metadata": {},
   "outputs": [
    {
     "name": "stdout",
     "output_type": "stream",
     "text": [
      "[2.3, 4.5, 2.1]\n",
      "mydict_weights = [10, 25, 5]\n",
      "mean = 4.857142857142857\n",
      "l = [1, 2, 4, 8, 16, 32, 64, 128, 256, 512]\n"
     ]
    }
   ],
   "source": [
    "#Point 4\n",
    "v = []\n",
    "for i in range(0,16):\n",
    "    v.append(i)\n",
    "\n",
    "e = []\n",
    "for i in [2.3, 4.5, 2.1]:\n",
    "    e.append(i)\n",
    "    \n",
    "\n",
    "mydict = {\n",
    "    \"name\": \"neuralnet\",\n",
    "    \"loss\": 0.12,\n",
    "    \"weights\": [10,25,5]\n",
    "}\n",
    "print(f\"mydict_weights = {mydict['weights']}\")\n",
    "mydict['loss']=10\n",
    "\n",
    "mylist = [2,6,3,8,9,11,-5]\n",
    "\n",
    "sum=0\n",
    "for i in mylist:\n",
    "    sum += i\n",
    "\n",
    "mean=sum/len(mylist)\n",
    "print(f\"mean = {mean}\")\n",
    "\n",
    "l = [2**n for n in range(10)]\n",
    "print(f\"l = {l}\")"
   ]
  },
  {
   "cell_type": "markdown",
   "id": "31106287-f7e3-46bc-9ab3-88c9a4fc41eb",
   "metadata": {},
   "source": [
    "Exercise 5 - Functions\n",
    "- Write a function which returns the average from a a list. Test the function using the list v=[2,6,3,8,9,11,-5].\n",
    "- Write the factorial function: f(0) = 1, f(x) = x * f(x-1).\n"
   ]
  },
  {
   "cell_type": "code",
   "execution_count": 45,
   "id": "e3288f71-4eca-47a9-bb0d-b354a38aa434",
   "metadata": {},
   "outputs": [
    {
     "name": "stdout",
     "output_type": "stream",
     "text": [
      "4.857142857142857\n",
      "40320\n"
     ]
    }
   ],
   "source": [
    "# Point 5\n",
    "def mean(l):\n",
    "    return np.sum(l) / len(l)\n",
    "    \n",
    "v=[2,6,3,8,9,11,-5]\n",
    "print(mean(v))  \n",
    "\n",
    "#factorial\n",
    "def f(x):\n",
    "    if x==0:\n",
    "        return 1\n",
    "    else:\n",
    "        return x*f(x-1)\n",
    "        \n",
    "print(f(8))"
   ]
  },
  {
   "cell_type": "markdown",
   "id": "9f3979dd-0002-40a7-87cb-7f753a9d835f",
   "metadata": {},
   "source": [
    "Exercise 6 - Class 1\n",
    "\n",
    "- Given the base class:\n",
    "\n",
    "class Variable:\n",
    "    def __init__(self, name):\n",
    "        self.name = name\n",
    "\n",
    "    def sample(self, size):\n",
    "        raise NotImplementedError()\n",
    "\n",
    "Implement an inherited Normal class which outputs a list of normal samples [mu=0, sigma=1] by overriding the Variable.sample method."
   ]
  },
  {
   "cell_type": "code",
   "execution_count": 47,
   "id": "494a156f-da9b-4275-8ff7-3ee87218efcb",
   "metadata": {},
   "outputs": [
    {
     "name": "stdout",
     "output_type": "stream",
     "text": [
      "[-0.3216748956939652, 1.8610413140352993, -0.6779250404507883, -0.31338377517441013, -0.07906290256784226, 0.28973631942179884, -0.3568113211400803, 0.7786211783014616, 1.0463851749661106, -0.06747142831887461]\n"
     ]
    }
   ],
   "source": [
    "import numpy as np\n",
    "import random\n",
    "\n",
    "class Variable:\n",
    "    def __init__(self, name):\n",
    "        self.name = name\n",
    "\n",
    "    def sample(self, size):\n",
    "        raise NotImplementedError()\n",
    "\n",
    "\n",
    "class Normal(Variable):\n",
    "    def __init__(self, name):\n",
    "        super().__init__(name)\n",
    "        self.mu = 0\n",
    "        self.sigma = 1 \n",
    "\n",
    "    def sample(self, size):\n",
    "        \"\"\"Performs normal samplings\"\"\"\"\"\n",
    "        samples = []\n",
    "        for _ in range(size):\n",
    "            s = random.gauss(self.mu, self.sigma)\n",
    "            samples.append(s)\n",
    "        return samples\n",
    "\n",
    "if __name__ == \"__main__\":\n",
    "    n = Normal(\"mynormalhineritance\")\n",
    "    s = n.sample(10)  \n",
    "    print(s)  "
   ]
  },
  {
   "cell_type": "markdown",
   "id": "07534c81-f113-4878-965a-5d761e9dca5b",
   "metadata": {},
   "source": [
    "Exercise 7 - Class 2\n",
    "\n",
    "- Construct a class which constructs and evaluates a 1D polynomial model with the following API:\n",
    "    - the class constructor must take the polynomial degree as argument.\n",
    "    - implement a set_parameters and get_parameters methods to update the parameter list.\n",
    "    - provide an execute method to access the polynomial prediction at a specific value in x.\n"
   ]
  },
  {
   "cell_type": "code",
   "execution_count": 49,
   "id": "3a90c991-9e94-473e-9052-bd6413c773a6",
   "metadata": {},
   "outputs": [
    {
     "name": "stdout",
     "output_type": "stream",
     "text": [
      "[1, 1, 1]\n",
      "1\n",
      "3\n",
      "7\n",
      "13\n",
      "21\n"
     ]
    }
   ],
   "source": [
    "class Polynomial:\n",
    "    def __init__(self, degree):\n",
    "        self.degree = degree\n",
    "        self.parameters=[]\n",
    "        for i in range(degree):\n",
    "            self.parameters.append(0)\n",
    "            \n",
    "    def set_parameters(self, par):\n",
    "        self.parameters = par\n",
    "    \n",
    "    def get_parameters(self):\n",
    "        print(self.parameters)\n",
    "        \n",
    "    def execute(self,x):\n",
    "        ans=0\n",
    "        for n,i in enumerate(self.parameters):\n",
    "            ans+=i*(x**n)\n",
    "            \n",
    "        return ans\n",
    "        \n",
    "def main():\n",
    "    P=Polynomial(3)\n",
    "    P.set_parameters([1,1,1])\n",
    "    P.get_parameters()\n",
    "    \n",
    "    for i in range(5):\n",
    "        print(P.execute(i))\n",
    "        \n",
    "if __name__==\"__main__\":\n",
    "    main()"
   ]
  },
  {
   "cell_type": "code",
   "execution_count": null,
   "id": "5422add3-3e4b-44d1-aae4-61f23848f7e9",
   "metadata": {},
   "outputs": [],
   "source": []
  }
 ],
 "metadata": {
  "kernelspec": {
   "display_name": "Python 3 (ipykernel)",
   "language": "python",
   "name": "python3"
  },
  "language_info": {
   "codemirror_mode": {
    "name": "ipython",
    "version": 3
   },
   "file_extension": ".py",
   "mimetype": "text/x-python",
   "name": "python",
   "nbconvert_exporter": "python",
   "pygments_lexer": "ipython3",
   "version": "3.12.3"
  }
 },
 "nbformat": 4,
 "nbformat_minor": 5
}
